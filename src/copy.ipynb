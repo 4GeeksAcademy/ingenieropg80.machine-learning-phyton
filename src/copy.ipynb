{
 "cells": [
  {
   "cell_type": "code",
   "execution_count": null,
   "id": "f73e478e",
   "metadata": {},
   "outputs": [
    {
     "ename": "SyntaxError",
     "evalue": "incomplete input (177417981.py, line 15)",
     "output_type": "error",
     "traceback": [
      "  \u001b[36mCell\u001b[39m\u001b[36m \u001b[39m\u001b[32mIn[1]\u001b[39m\u001b[32m, line 15\u001b[39m\n\u001b[31m    \u001b[39m\u001b[31mprint(train_data.i\u001b[39m\n                      ^\n\u001b[31mSyntaxError\u001b[39m\u001b[31m:\u001b[39m incomplete input\n"
     ]
    }
   ],
   "source": [
    "url=\"https://raw.githubusercontent.com/4GeeksAcademy/data-preprocessing-project-tutorial/main/AB_NYC_2019.csv\"\n",
    "\n",
    "def getData(URL:str) -> pd.DataFrame:\n",
    "    train_data = pd.read_csv(URL)\n",
    "    return pd.DataFrame(train_data)\n",
    "\n",
    "def testData(df:pd.DataFrame) -> pd.DataFrame:\n",
    "    df.drop('id', axis=1, inplace=True)\n",
    "    # df.drop('name', axis=1, inplace=True)\n",
    "    # df.drop('host_name', axis=1, inplace=True)\n",
    "    return\n",
    "\n",
    "def main():\n",
    "    train_data = getData(URL)\n",
    "    print(train_data.i)\n"
   ]
  }
 ],
 "metadata": {
  "kernelspec": {
   "display_name": "Python 3",
   "language": "python",
   "name": "python3"
  },
  "language_info": {
   "codemirror_mode": {
    "name": "ipython",
    "version": 3
   },
   "file_extension": ".py",
   "mimetype": "text/x-python",
   "name": "python",
   "nbconvert_exporter": "python",
   "pygments_lexer": "ipython3",
   "version": "3.11.4"
  }
 },
 "nbformat": 4,
 "nbformat_minor": 5
}
