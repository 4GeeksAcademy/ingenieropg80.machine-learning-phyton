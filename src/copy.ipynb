{
 "cells": [
  {
   "cell_type": "code",
   "execution_count": 3,
   "id": "60091e9e",
   "metadata": {},
   "outputs": [
    {
     "ename": "NameError",
     "evalue": "name 'total_data' is not defined",
     "output_type": "error",
     "traceback": [
      "\u001b[31m---------------------------------------------------------------------------\u001b[39m",
      "\u001b[31mNameError\u001b[39m                                 Traceback (most recent call last)",
      "\u001b[36mCell\u001b[39m\u001b[36m \u001b[39m\u001b[32mIn[3]\u001b[39m\u001b[32m, line 5\u001b[39m\n\u001b[32m      2\u001b[39m num_vars = [\u001b[33m'\u001b[39m\u001b[33mprice\u001b[39m\u001b[33m'\u001b[39m, \u001b[33m'\u001b[39m\u001b[33mminimum_nights\u001b[39m\u001b[33m'\u001b[39m, \u001b[33m'\u001b[39m\u001b[33mnumber_of_reviews\u001b[39m\u001b[33m'\u001b[39m, \u001b[33m'\u001b[39m\u001b[33mavailability_365\u001b[39m\u001b[33m'\u001b[39m]\n\u001b[32m      4\u001b[39m \u001b[38;5;66;03m# Filtrar precios extremos para mejor visualización (opcional)\u001b[39;00m\n\u001b[32m----> \u001b[39m\u001b[32m5\u001b[39m filtered_data = \u001b[43mtotal_data\u001b[49m[total_data[\u001b[33m'\u001b[39m\u001b[33mprice\u001b[39m\u001b[33m'\u001b[39m] < \u001b[32m500\u001b[39m]\n\u001b[32m      7\u001b[39m \u001b[38;5;66;03m# Pairplot para ver todas las combinaciones de scatter plots\u001b[39;00m\n\u001b[32m      8\u001b[39m sns.pairplot(filtered_data[num_vars], diag_kind=\u001b[33m'\u001b[39m\u001b[33mkde\u001b[39m\u001b[33m'\u001b[39m, plot_kws={\u001b[33m'\u001b[39m\u001b[33malpha\u001b[39m\u001b[33m'\u001b[39m:\u001b[32m0.3\u001b[39m})\n",
      "\u001b[31mNameError\u001b[39m: name 'total_data' is not defined"
     ]
    }
   ],
   "source": [
    "# todas las que creo se pueden cruzar\n",
    "num_vars = ['price', 'minimum_nights', 'number_of_reviews', 'availability_365']\n",
    "\n",
    "# Filtrar precios extremos para mejor visualización (opcional)\n",
    "filtered_data = total_data[total_data['price'] < 500]\n",
    "\n",
    "# Pairplot para ver todas las combinaciones de scatter plots\n",
    "sns.pairplot(filtered_data[num_vars], diag_kind='kde', plot_kws={'alpha':0.3})\n",
    "plt.suptitle('Diagramas de dispersión entre variables numéricas', y=1.02)\n",
    "plt.show()"
   ]
  }
 ],
 "metadata": {
  "kernelspec": {
   "display_name": "Python 3",
   "language": "python",
   "name": "python3"
  },
  "language_info": {
   "codemirror_mode": {
    "name": "ipython",
    "version": 3
   },
   "file_extension": ".py",
   "mimetype": "text/x-python",
   "name": "python",
   "nbconvert_exporter": "python",
   "pygments_lexer": "ipython3",
   "version": "3.11.4"
  }
 },
 "nbformat": 4,
 "nbformat_minor": 5
}
