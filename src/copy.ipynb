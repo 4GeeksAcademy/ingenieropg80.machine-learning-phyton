{
 "cells": [
  {
   "cell_type": "code",
   "execution_count": null,
   "id": "60091e9e",
   "metadata": {},
   "outputs": [],
   "source": [
    "# todas las que creo se pueden cruzar\n",
    "num_vars = ['price', 'minimum_nights', 'number_of_reviews', 'availability_365']\n",
    "\n",
    "# Filtrar precios extremos para mejor visualización (opcional)\n",
    "filtered_data = total_data[total_data['price'] < 500]\n",
    "\n",
    "# Pairplot para ver todas las combinaciones de scatter plots\n",
    "sns.pairplot(filtered_data[num_vars], diag_kind='kde', plot_kws={'alpha':0.3})\n",
    "plt.suptitle('Diagramas de dispersión entre variables numéricas', y=1.02)\n",
    "plt.show()"
   ]
  }
 ],
 "metadata": {
  "kernelspec": {
   "display_name": "Python 3",
   "language": "python",
   "name": "python3"
  },
  "language_info": {
   "codemirror_mode": {
    "name": "ipython",
    "version": 3
   },
   "file_extension": ".py",
   "mimetype": "text/x-python",
   "name": "python",
   "nbconvert_exporter": "python",
   "pygments_lexer": "ipython3",
   "version": "3.11.4"
  }
 },
 "nbformat": 4,
 "nbformat_minor": 5
}
