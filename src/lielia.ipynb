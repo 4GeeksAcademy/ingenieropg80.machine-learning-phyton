{
 "cells": [
  {
   "cell_type": "code",
   "execution_count": null,
   "id": "a4e708e3",
   "metadata": {},
   "outputs": [],
   "source": [
    "\n",
    "\n",
    "\n",
    "# Create Histogram\n",
    "sns.histplot(ax = axis[0,0], data = total_data, x = \"host_id\")\n",
    "sns.histplot(ax = axis[0,1], data = total_data, x = \"neighbourhood_group\").set_xticks([])\n",
    "sns.histplot(ax = axis[0,2], data = total_data, x = \"neighbourhood\").set_xticks([])\n",
    "sns.histplot(ax = axis[1,0], data = total_data, x = \"room_type\")\n",
    "sns.histplot(ax = axis[1,1], data = total_data, x = \"availability_365\")\n",
    "fig.delaxes(axis[1, 2])\n",
    "Lielia Rodas\n",
    "21:11\n",
    "# Adjust layout\n",
    "plt.tight_layout()\n",
    "\n",
    "# Show the plot\n",
    "plt.show()\n"
   ]
  }
 ],
 "metadata": {
  "language_info": {
   "name": "python"
  }
 },
 "nbformat": 4,
 "nbformat_minor": 5
}
